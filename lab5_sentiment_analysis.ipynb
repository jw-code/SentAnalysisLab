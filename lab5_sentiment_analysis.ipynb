{
  "cells": [
    {
      "cell_type": "markdown",
      "metadata": {
        "id": "yv5FPbC48hie"
      },
      "source": [
        "# Python Lab 5: Sentiment Identification\n"
      ]
    },
    {
      "cell_type": "markdown",
      "metadata": {
        "id": "p5hmvwzu8hii"
      },
      "source": [
        "# Student Name: Josh Wacholz (2 Class solution)"
      ]
    },
    {
      "cell_type": "markdown",
      "metadata": {
        "id": "OYWslzvR8hij"
      },
      "source": [
        "# Table of Contents\n",
        "1. Background\n",
        "2. Goal\n",
        "3. Source Data\n",
        "4. Applied Methodology \n",
        "5. Assignment Guidelines\n",
        "6. Conclusions and Recommendations"
      ]
    },
    {
      "cell_type": "markdown",
      "metadata": {
        "id": "alsN-y_D8hij"
      },
      "source": [
        "# 1. Background\n",
        "A large multinational corporation is seeking to automatically identify the sentiment that their customer base talks about on social media. They would like to expand this capability into multiple languages. Many 3rd party tools exist for sentiment analysis, however, they need help with under-resourced languages."
      ]
    },
    {
      "cell_type": "markdown",
      "metadata": {
        "id": "1A_T-z3P8hik"
      },
      "source": [
        "# 2. Goal\n",
        "Train a sentiment classifier (Positive, Negative, Neutral) on a corpus of the provided documents.\n",
        "Here are the goals:\n",
        "\n",
        "    a. Maximize Accuracy\n",
        "    b. Accurately detect negative sentiment\n",
        "    \n"
      ]
    },
    {
      "cell_type": "markdown",
      "metadata": {
        "id": "azZ_hkMf8hik"
      },
      "source": [
        "# 3. Source Data\n",
        "Dataset will be imported from the following link.\n",
        "\n",
        "• Link: http://archive.ics.uci.edu/ml/datasets/Roman+Urdu+Data+Set"
      ]
    },
    {
      "cell_type": "markdown",
      "metadata": {
        "id": "XoPWoUi68hil"
      },
      "source": [
        "# 4. Applied Methodology\n",
        "\n",
        "There following are the approached methodology used to mined the dataset to meet the business goal.\n",
        "\n",
        "    a.\tData Summary\n",
        "    b.\tData Cleansing \n",
        "    c.\tData Wrangling\n",
        "    d.\tData Validation\n",
        "    e.\tData Visualization\n",
        "    f.\tBasic Text Mining \n",
        "    g.\tMultiple Models Application\n",
        "    \n",
        "Note: Outline 4b to 4e will be applied to each variable."
      ]
    },
    {
      "cell_type": "raw",
      "metadata": {
        "id": "khUGrYpL8him"
      },
      "source": [
        "4a. Data Summary"
      ]
    },
    {
      "cell_type": "code",
      "execution_count": null,
      "metadata": {
        "id": "wGWMPKax8him"
      },
      "outputs": [],
      "source": [
        "import pandas as pd\n",
        "import numpy as np\n",
        "pd.options.mode.chained_assignment = None  # default='warn'"
      ]
    },
    {
      "cell_type": "code",
      "execution_count": null,
      "metadata": {
        "colab": {
          "base_uri": "https://localhost:8080/",
          "height": 112
        },
        "id": "OQec-TwJ8hin",
        "outputId": "f2e2b769-e8e0-4473-c950-82cdd7f8ab71"
      },
      "outputs": [
        {
          "output_type": "execute_result",
          "data": {
            "text/html": [
              "<div>\n",
              "<style scoped>\n",
              "    .dataframe tbody tr th:only-of-type {\n",
              "        vertical-align: middle;\n",
              "    }\n",
              "\n",
              "    .dataframe tbody tr th {\n",
              "        vertical-align: top;\n",
              "    }\n",
              "\n",
              "    .dataframe thead th {\n",
              "        text-align: right;\n",
              "    }\n",
              "</style>\n",
              "<table border=\"1\" class=\"dataframe\">\n",
              "  <thead>\n",
              "    <tr style=\"text-align: right;\">\n",
              "      <th></th>\n",
              "      <th>Sai kha ya her kisi kay bus ki bat nhi hai lakin main ki hal kal bi Aj aur aj bi sirf Aus say bus</th>\n",
              "      <th>Positive</th>\n",
              "      <th>Unnamed: 2</th>\n",
              "    </tr>\n",
              "  </thead>\n",
              "  <tbody>\n",
              "    <tr>\n",
              "      <th>0</th>\n",
              "      <td>sahi bt h</td>\n",
              "      <td>Positive</td>\n",
              "      <td>NaN</td>\n",
              "    </tr>\n",
              "    <tr>\n",
              "      <th>1</th>\n",
              "      <td>Kya bt hai,</td>\n",
              "      <td>Positive</td>\n",
              "      <td>NaN</td>\n",
              "    </tr>\n",
              "  </tbody>\n",
              "</table>\n",
              "</div>"
            ],
            "text/plain": [
              "  Sai kha ya her kisi kay bus ki bat nhi hai lakin main ki hal kal bi Aj aur aj bi sirf Aus say bus  ... Unnamed: 2\n",
              "0                                          sahi bt h                                                 ...        NaN\n",
              "1                                        Kya bt hai,                                                 ...        NaN\n",
              "\n",
              "[2 rows x 3 columns]"
            ]
          },
          "metadata": {},
          "execution_count": 2
        }
      ],
      "source": [
        "#Step 1: Import Data from Source Link\n",
        "data_link = 'http://archive.ics.uci.edu/ml/machine-learning-databases/00458/Roman%20Urdu%20DataSet.csv'\n",
        "Raw_Data = pd.read_csv(data_link)\n",
        "Raw_Data.head(2)"
      ]
    },
    {
      "cell_type": "code",
      "execution_count": null,
      "metadata": {
        "colab": {
          "base_uri": "https://localhost:8080/",
          "height": 112
        },
        "id": "PNXdz3CK8hio",
        "outputId": "0b80aa10-aa20-4ab8-d91e-d3050690940a"
      },
      "outputs": [
        {
          "output_type": "execute_result",
          "data": {
            "text/html": [
              "<div>\n",
              "<style scoped>\n",
              "    .dataframe tbody tr th:only-of-type {\n",
              "        vertical-align: middle;\n",
              "    }\n",
              "\n",
              "    .dataframe tbody tr th {\n",
              "        vertical-align: top;\n",
              "    }\n",
              "\n",
              "    .dataframe thead th {\n",
              "        text-align: right;\n",
              "    }\n",
              "</style>\n",
              "<table border=\"1\" class=\"dataframe\">\n",
              "  <thead>\n",
              "    <tr style=\"text-align: right;\">\n",
              "      <th></th>\n",
              "      <th>Customer_Comment</th>\n",
              "      <th>Sentiment_Classifier</th>\n",
              "      <th>Flag</th>\n",
              "    </tr>\n",
              "  </thead>\n",
              "  <tbody>\n",
              "    <tr>\n",
              "      <th>0</th>\n",
              "      <td>Sai kha ya her kisi kay bus ki bat nhi hai lak...</td>\n",
              "      <td>Positive</td>\n",
              "      <td>NaN</td>\n",
              "    </tr>\n",
              "    <tr>\n",
              "      <th>1</th>\n",
              "      <td>sahi bt h</td>\n",
              "      <td>Positive</td>\n",
              "      <td>NaN</td>\n",
              "    </tr>\n",
              "  </tbody>\n",
              "</table>\n",
              "</div>"
            ],
            "text/plain": [
              "                                    Customer_Comment Sentiment_Classifier Flag\n",
              "0  Sai kha ya her kisi kay bus ki bat nhi hai lak...             Positive  NaN\n",
              "1                                          sahi bt h             Positive  NaN"
            ]
          },
          "metadata": {},
          "execution_count": 3
        }
      ],
      "source": [
        "# Step 2: Add variable names becuase raw data was missing variable names.\n",
        "Raw_Data = pd.read_csv(data_link , names=[\"Customer_Comment\", \"Sentiment_Classifier\", \"Flag\"])\n",
        "Raw_Data.head(2)"
      ]
    },
    {
      "cell_type": "markdown",
      "metadata": {
        "id": "_-WQAmL38hip"
      },
      "source": [
        "# Apply Outline 4b to 4e to each field."
      ]
    },
    {
      "cell_type": "markdown",
      "metadata": {
        "id": "qc_d9Qgk8hip"
      },
      "source": [
        "# Step 4b-4e (i): Flag Field"
      ]
    },
    {
      "cell_type": "code",
      "execution_count": null,
      "metadata": {
        "colab": {
          "base_uri": "https://localhost:8080/"
        },
        "id": "H5qefzlR8hip",
        "outputId": "78f9e61a-bcb7-4d0d-e2fd-076eec8e4bb9"
      },
      "outputs": [
        {
          "output_type": "execute_result",
          "data": {
            "text/plain": [
              "Flag\n",
              "------              1\n",
              "-------             1\n",
              "----------          1\n",
              "----------------    1\n",
              "9090                1\n",
              "till here           2\n",
              "Name: Flag, dtype: int64"
            ]
          },
          "metadata": {},
          "execution_count": 4
        }
      ],
      "source": [
        "Raw_Data.groupby(\"Flag\")[\"Flag\"].count()"
      ]
    },
    {
      "cell_type": "code",
      "execution_count": null,
      "metadata": {
        "colab": {
          "base_uri": "https://localhost:8080/",
          "height": 112
        },
        "id": "OoURGPuk8hiq",
        "outputId": "0e98a32a-7976-4581-fbc5-af3297c7e36e"
      },
      "outputs": [
        {
          "output_type": "execute_result",
          "data": {
            "text/html": [
              "<div>\n",
              "<style scoped>\n",
              "    .dataframe tbody tr th:only-of-type {\n",
              "        vertical-align: middle;\n",
              "    }\n",
              "\n",
              "    .dataframe tbody tr th {\n",
              "        vertical-align: top;\n",
              "    }\n",
              "\n",
              "    .dataframe thead th {\n",
              "        text-align: right;\n",
              "    }\n",
              "</style>\n",
              "<table border=\"1\" class=\"dataframe\">\n",
              "  <thead>\n",
              "    <tr style=\"text-align: right;\">\n",
              "      <th></th>\n",
              "      <th>Customer_Comment</th>\n",
              "      <th>Sentiment_Classifier</th>\n",
              "    </tr>\n",
              "  </thead>\n",
              "  <tbody>\n",
              "    <tr>\n",
              "      <th>0</th>\n",
              "      <td>Sai kha ya her kisi kay bus ki bat nhi hai lak...</td>\n",
              "      <td>Positive</td>\n",
              "    </tr>\n",
              "    <tr>\n",
              "      <th>1</th>\n",
              "      <td>sahi bt h</td>\n",
              "      <td>Positive</td>\n",
              "    </tr>\n",
              "  </tbody>\n",
              "</table>\n",
              "</div>"
            ],
            "text/plain": [
              "                                    Customer_Comment Sentiment_Classifier\n",
              "0  Sai kha ya her kisi kay bus ki bat nhi hai lak...             Positive\n",
              "1                                          sahi bt h             Positive"
            ]
          },
          "metadata": {},
          "execution_count": 5
        }
      ],
      "source": [
        "## Removed Flag field, looks like it is an extraneous variable as per the business objective.\n",
        "Raw_Data_1 = Raw_Data[[\"Customer_Comment\", \"Sentiment_Classifier\"]]\n",
        "Raw_Data_1.head(2)"
      ]
    },
    {
      "cell_type": "markdown",
      "metadata": {
        "id": "PbamP4tF8hiq"
      },
      "source": [
        "# Step 4b-4e (ii): Sentiment_Classifier field"
      ]
    },
    {
      "cell_type": "code",
      "execution_count": null,
      "metadata": {
        "colab": {
          "base_uri": "https://localhost:8080/"
        },
        "id": "tmAEyKqy8hiq",
        "outputId": "ce423854-ee4b-4c30-ade2-6c9ef71ecd12"
      },
      "outputs": [
        {
          "output_type": "execute_result",
          "data": {
            "text/plain": [
              "Sentiment_Classifier\n",
              "Neative        1\n",
              "Negative    5286\n",
              "Neutral     8929\n",
              "Positive    6013\n",
              "Name: Sentiment_Classifier, dtype: int64"
            ]
          },
          "metadata": {},
          "execution_count": 6
        }
      ],
      "source": [
        "#Examine Sentiment Classifier field\n",
        "Raw_Data_1.groupby(\"Sentiment_Classifier\")[\"Sentiment_Classifier\"].count()"
      ]
    },
    {
      "cell_type": "code",
      "execution_count": null,
      "metadata": {
        "colab": {
          "base_uri": "https://localhost:8080/",
          "height": 112
        },
        "id": "tModbujr8hiq",
        "outputId": "ca17f350-2cd5-43fb-88c8-6a547c3b38d7"
      },
      "outputs": [
        {
          "output_type": "execute_result",
          "data": {
            "text/html": [
              "<div>\n",
              "<style scoped>\n",
              "    .dataframe tbody tr th:only-of-type {\n",
              "        vertical-align: middle;\n",
              "    }\n",
              "\n",
              "    .dataframe tbody tr th {\n",
              "        vertical-align: top;\n",
              "    }\n",
              "\n",
              "    .dataframe thead th {\n",
              "        text-align: right;\n",
              "    }\n",
              "</style>\n",
              "<table border=\"1\" class=\"dataframe\">\n",
              "  <thead>\n",
              "    <tr style=\"text-align: right;\">\n",
              "      <th></th>\n",
              "      <th>Customer_Comment</th>\n",
              "      <th>Sentiment_Classifier</th>\n",
              "    </tr>\n",
              "  </thead>\n",
              "  <tbody>\n",
              "    <tr>\n",
              "      <th>0</th>\n",
              "      <td>Sai kha ya her kisi kay bus ki bat nhi hai lak...</td>\n",
              "      <td>Positive</td>\n",
              "    </tr>\n",
              "    <tr>\n",
              "      <th>1</th>\n",
              "      <td>sahi bt h</td>\n",
              "      <td>Positive</td>\n",
              "    </tr>\n",
              "  </tbody>\n",
              "</table>\n",
              "</div>"
            ],
            "text/plain": [
              "                                    Customer_Comment Sentiment_Classifier\n",
              "0  Sai kha ya her kisi kay bus ki bat nhi hai lak...             Positive\n",
              "1                                          sahi bt h             Positive"
            ]
          },
          "metadata": {},
          "execution_count": 7
        }
      ],
      "source": [
        "#Clean 'Neative' value from above to 'Negative'\n",
        "Raw_Data_1['Sentiment_Classifier'] = Raw_Data_1['Sentiment_Classifier'].replace('Neative', 'Negative')\n",
        "Raw_Data_1.head(2)"
      ]
    },
    {
      "cell_type": "code",
      "execution_count": null,
      "metadata": {
        "colab": {
          "base_uri": "https://localhost:8080/"
        },
        "id": "dry2bvaM8hiq",
        "outputId": "c15592fa-9419-49ad-b291-d3029e1d5052"
      },
      "outputs": [
        {
          "output_type": "execute_result",
          "data": {
            "text/plain": [
              "Sentiment_Classifier\n",
              "Negative    5287\n",
              "Neutral     8929\n",
              "Positive    6013\n",
              "Name: Sentiment_Classifier, dtype: int64"
            ]
          },
          "metadata": {},
          "execution_count": 8
        }
      ],
      "source": [
        "# Validate Data\n",
        "Raw_Data_1.groupby(\"Sentiment_Classifier\")[\"Sentiment_Classifier\"].count()"
      ]
    },
    {
      "cell_type": "code",
      "execution_count": null,
      "metadata": {
        "id": "hdGsGKm68hir"
      },
      "outputs": [],
      "source": [
        "# Change from 3 classes to 2 by assigning 1 to Negative values and 0 to positive and neutral values\n",
        "Raw_Data_1[\"Sentiment_Classifier\"] = Raw_Data_1[\"Sentiment_Classifier\"].map({'Negative': 1, 'Positive': 0, 'Neutral':0})"
      ]
    },
    {
      "cell_type": "code",
      "execution_count": null,
      "metadata": {
        "colab": {
          "base_uri": "https://localhost:8080/",
          "height": 279
        },
        "id": "h-7HbPtK8hir",
        "outputId": "fba3a3a9-b1e1-4681-f07e-2cdc7c42d106"
      },
      "outputs": [
        {
          "output_type": "execute_result",
          "data": {
            "text/plain": [
              "<matplotlib.axes._subplots.AxesSubplot at 0x7f95bfc4b8d0>"
            ]
          },
          "metadata": {},
          "execution_count": 10
        },
        {
          "output_type": "display_data",
          "data": {
            "image/png": "[encoded data removed]",
            "text/plain": [
              "<Figure size 432x288 with 1 Axes>"
            ]
          },
          "metadata": {
            "needs_background": "light"
          }
        }
      ],
      "source": [
        "# Visualize Data\n",
        "import matplotlib.pyplot as plt\n",
        "Raw_Data_1['Sentiment_Classifier'].value_counts().plot(kind='bar' ,color=['blue', 'green', 'red'])"
      ]
    },
    {
      "cell_type": "markdown",
      "metadata": {
        "id": "WBM1GRVF8his"
      },
      "source": [
        "# Step 4b-4e (ii): Customer_Comment field"
      ]
    },
    {
      "cell_type": "code",
      "execution_count": null,
      "metadata": {
        "colab": {
          "base_uri": "https://localhost:8080/"
        },
        "id": "_9XYBXds8his",
        "outputId": "bd302335-6e4a-41ba-fcb9-e1ce7c146e6d"
      },
      "outputs": [
        {
          "output_type": "stream",
          "name": "stdout",
          "text": [
            "Customer_Comment        1\n",
            "Sentiment_Classifier    0\n",
            "dtype: int64\n"
          ]
        }
      ],
      "source": [
        "# Confirm if there is missing Data\n",
        "print(Raw_Data_1.isnull().sum())"
      ]
    },
    {
      "cell_type": "code",
      "execution_count": null,
      "metadata": {
        "colab": {
          "base_uri": "https://localhost:8080/",
          "height": 206
        },
        "id": "Gb3ExQM08hit",
        "outputId": "3f217608-3038-402a-e66a-761d5ae06b05"
      },
      "outputs": [
        {
          "output_type": "execute_result",
          "data": {
            "text/html": [
              "<div>\n",
              "<style scoped>\n",
              "    .dataframe tbody tr th:only-of-type {\n",
              "        vertical-align: middle;\n",
              "    }\n",
              "\n",
              "    .dataframe tbody tr th {\n",
              "        vertical-align: top;\n",
              "    }\n",
              "\n",
              "    .dataframe thead th {\n",
              "        text-align: right;\n",
              "    }\n",
              "</style>\n",
              "<table border=\"1\" class=\"dataframe\">\n",
              "  <thead>\n",
              "    <tr style=\"text-align: right;\">\n",
              "      <th></th>\n",
              "      <th>Customer_Comment</th>\n",
              "      <th>Sentiment_Classifier</th>\n",
              "    </tr>\n",
              "  </thead>\n",
              "  <tbody>\n",
              "    <tr>\n",
              "      <th>0</th>\n",
              "      <td>Sai kha ya her kisi kay bus ki bat nhi hai lak...</td>\n",
              "      <td>0</td>\n",
              "    </tr>\n",
              "    <tr>\n",
              "      <th>1</th>\n",
              "      <td>sahi bt h</td>\n",
              "      <td>0</td>\n",
              "    </tr>\n",
              "    <tr>\n",
              "      <th>2</th>\n",
              "      <td>Kya bt hai,</td>\n",
              "      <td>0</td>\n",
              "    </tr>\n",
              "    <tr>\n",
              "      <th>3</th>\n",
              "      <td>Wah je wah</td>\n",
              "      <td>0</td>\n",
              "    </tr>\n",
              "    <tr>\n",
              "      <th>4</th>\n",
              "      <td>Are wha kaya bat hai</td>\n",
              "      <td>0</td>\n",
              "    </tr>\n",
              "  </tbody>\n",
              "</table>\n",
              "</div>"
            ],
            "text/plain": [
              "                                    Customer_Comment  Sentiment_Classifier\n",
              "0  Sai kha ya her kisi kay bus ki bat nhi hai lak...                     0\n",
              "1                                          sahi bt h                     0\n",
              "2                                        Kya bt hai,                     0\n",
              "3                                         Wah je wah                     0\n",
              "4                               Are wha kaya bat hai                     0"
            ]
          },
          "metadata": {},
          "execution_count": 12
        }
      ],
      "source": [
        "##This shows that there is at least one within Customer_Comment field, so let remove them.\n",
        "Raw_Data_2 = Raw_Data_1[pd.notnull(Raw_Data_1[\"Customer_Comment\"])]\n",
        "Raw_Data_2.head()"
      ]
    },
    {
      "cell_type": "code",
      "execution_count": null,
      "metadata": {
        "colab": {
          "base_uri": "https://localhost:8080/"
        },
        "id": "0qxDJlzw8hit",
        "outputId": "2290b11d-1a4f-4665-dcb2-bbfc53508627"
      },
      "outputs": [
        {
          "output_type": "stream",
          "name": "stdout",
          "text": [
            "Customer_Comment        0\n",
            "Sentiment_Classifier    0\n",
            "dtype: int64\n"
          ]
        }
      ],
      "source": [
        "# Confirm if there is missing Data\n",
        "print(Raw_Data_2.isnull().sum())"
      ]
    },
    {
      "cell_type": "code",
      "execution_count": null,
      "metadata": {
        "colab": {
          "base_uri": "https://localhost:8080/",
          "height": 112
        },
        "id": "Z9RMKgI58hiu",
        "outputId": "02fc3d98-f4d6-4638-81b9-e4c36cba3d81"
      },
      "outputs": [
        {
          "output_type": "execute_result",
          "data": {
            "text/html": [
              "<div>\n",
              "<style scoped>\n",
              "    .dataframe tbody tr th:only-of-type {\n",
              "        vertical-align: middle;\n",
              "    }\n",
              "\n",
              "    .dataframe tbody tr th {\n",
              "        vertical-align: top;\n",
              "    }\n",
              "\n",
              "    .dataframe thead th {\n",
              "        text-align: right;\n",
              "    }\n",
              "</style>\n",
              "<table border=\"1\" class=\"dataframe\">\n",
              "  <thead>\n",
              "    <tr style=\"text-align: right;\">\n",
              "      <th></th>\n",
              "      <th>Customer_Comment</th>\n",
              "      <th>Sentiment_Classifier</th>\n",
              "    </tr>\n",
              "  </thead>\n",
              "  <tbody>\n",
              "    <tr>\n",
              "      <th>0</th>\n",
              "      <td>sai kha ya her kisi kay bus ki bat nhi hai lak...</td>\n",
              "      <td>0</td>\n",
              "    </tr>\n",
              "    <tr>\n",
              "      <th>1</th>\n",
              "      <td>sahi bt h</td>\n",
              "      <td>0</td>\n",
              "    </tr>\n",
              "  </tbody>\n",
              "</table>\n",
              "</div>"
            ],
            "text/plain": [
              "                                    Customer_Comment  Sentiment_Classifier\n",
              "0  sai kha ya her kisi kay bus ki bat nhi hai lak...                     0\n",
              "1                                          sahi bt h                     0"
            ]
          },
          "metadata": {},
          "execution_count": 14
        }
      ],
      "source": [
        "# Convert data to lower case, trim leading and trailing white spaces.\n",
        "# lower case\n",
        "Raw_Data_2['Customer_Comment'] = Raw_Data_2['Customer_Comment'].str.lower()\n",
        "Raw_Data_2.head(2)"
      ]
    },
    {
      "cell_type": "code",
      "execution_count": null,
      "metadata": {
        "colab": {
          "base_uri": "https://localhost:8080/",
          "height": 112
        },
        "id": "8seZeBUF8hiu",
        "outputId": "e17914be-3513-4a4d-a04c-17042068c219"
      },
      "outputs": [
        {
          "output_type": "execute_result",
          "data": {
            "text/html": [
              "<div>\n",
              "<style scoped>\n",
              "    .dataframe tbody tr th:only-of-type {\n",
              "        vertical-align: middle;\n",
              "    }\n",
              "\n",
              "    .dataframe tbody tr th {\n",
              "        vertical-align: top;\n",
              "    }\n",
              "\n",
              "    .dataframe thead th {\n",
              "        text-align: right;\n",
              "    }\n",
              "</style>\n",
              "<table border=\"1\" class=\"dataframe\">\n",
              "  <thead>\n",
              "    <tr style=\"text-align: right;\">\n",
              "      <th></th>\n",
              "      <th>Customer_Comment</th>\n",
              "      <th>Sentiment_Classifier</th>\n",
              "    </tr>\n",
              "  </thead>\n",
              "  <tbody>\n",
              "    <tr>\n",
              "      <th>0</th>\n",
              "      <td>sai kha ya her kisi kay bus ki bat nhi hai lak...</td>\n",
              "      <td>0</td>\n",
              "    </tr>\n",
              "    <tr>\n",
              "      <th>1</th>\n",
              "      <td>sahi bt h</td>\n",
              "      <td>0</td>\n",
              "    </tr>\n",
              "  </tbody>\n",
              "</table>\n",
              "</div>"
            ],
            "text/plain": [
              "                                    Customer_Comment  Sentiment_Classifier\n",
              "0  sai kha ya her kisi kay bus ki bat nhi hai lak...                     0\n",
              "1                                          sahi bt h                     0"
            ]
          },
          "metadata": {},
          "execution_count": 15
        }
      ],
      "source": [
        "#trim leading and trailing white spaces\n",
        "Raw_Data_2 = Raw_Data_2.applymap(lambda x: x.strip() if isinstance(x, str) else x)\n",
        "Raw_Data_2.head(2)"
      ]
    },
    {
      "cell_type": "markdown",
      "metadata": {
        "id": "0pfgXzwl8hiv"
      },
      "source": [
        "# ++++++++++++++++++++++++++++++++++++++++++++++++++++++++++"
      ]
    },
    {
      "cell_type": "code",
      "execution_count": null,
      "metadata": {
        "id": "hsLHDeRw8hiv"
      },
      "outputs": [],
      "source": [
        "import tensorflow\n",
        "import numpy as np\n",
        "from tensorflow.keras.models import Sequential\n",
        "from tensorflow.keras.layers import Bidirectional, Dense, Dropout, Embedding, GlobalMaxPool1D, LSTM, Flatten\n",
        "from tensorflow.keras.utils import to_categorical\n",
        "from tensorflow.keras.preprocessing.sequence import pad_sequences\n",
        "from tensorflow.keras.callbacks import ModelCheckpoint\n",
        "import seaborn as sns\n",
        "import matplotlib.pyplot as plt\n",
        "from sklearn.model_selection import train_test_split\n",
        "from sklearn.metrics import accuracy_score"
      ]
    },
    {
      "cell_type": "code",
      "execution_count": null,
      "metadata": {
        "colab": {
          "base_uri": "https://localhost:8080/",
          "height": 112
        },
        "id": "k4HaRUZE8hiv",
        "outputId": "a2e21c9d-7b59-4ee4-c4b4-5526e9c0c0b6"
      },
      "outputs": [
        {
          "output_type": "execute_result",
          "data": {
            "text/html": [
              "<div>\n",
              "<style scoped>\n",
              "    .dataframe tbody tr th:only-of-type {\n",
              "        vertical-align: middle;\n",
              "    }\n",
              "\n",
              "    .dataframe tbody tr th {\n",
              "        vertical-align: top;\n",
              "    }\n",
              "\n",
              "    .dataframe thead th {\n",
              "        text-align: right;\n",
              "    }\n",
              "</style>\n",
              "<table border=\"1\" class=\"dataframe\">\n",
              "  <thead>\n",
              "    <tr style=\"text-align: right;\">\n",
              "      <th></th>\n",
              "      <th>Customer_Comment</th>\n",
              "      <th>Sentiment_Classifier</th>\n",
              "    </tr>\n",
              "  </thead>\n",
              "  <tbody>\n",
              "    <tr>\n",
              "      <th>0</th>\n",
              "      <td>sai kha ya her kisi kay bus ki bat nhi hai lak...</td>\n",
              "      <td>0</td>\n",
              "    </tr>\n",
              "    <tr>\n",
              "      <th>1</th>\n",
              "      <td>sahi bt h</td>\n",
              "      <td>0</td>\n",
              "    </tr>\n",
              "  </tbody>\n",
              "</table>\n",
              "</div>"
            ],
            "text/plain": [
              "                                    Customer_Comment  Sentiment_Classifier\n",
              "0  sai kha ya her kisi kay bus ki bat nhi hai lak...                     0\n",
              "1                                          sahi bt h                     0"
            ]
          },
          "metadata": {},
          "execution_count": 22
        }
      ],
      "source": [
        "# Convert Sentiment_Classifier values to integers\n",
        "Raw_Data_2['Sentiment_Classifier'] = Raw_Data_2.Sentiment_Classifier.astype('category').cat.codes\n",
        "Raw_Data_2.head(2)"
      ]
    },
    {
      "cell_type": "code",
      "execution_count": null,
      "metadata": {
        "colab": {
          "base_uri": "https://localhost:8080/"
        },
        "id": "7I95_Lpj8hiv",
        "outputId": "eea1865a-2658-4d88-fe65-d3e4f64d3dc5"
      },
      "outputs": [
        {
          "output_type": "execute_result",
          "data": {
            "text/plain": [
              "301"
            ]
          },
          "metadata": {},
          "execution_count": 23
        }
      ],
      "source": [
        "# For a deep learning model we need to know what the input sequence length for our model should be\n",
        "# Calculate the number of words in the Customer_Comment column and find the maximum value to be used for input sequence\n",
        "\n",
        "Raw_Data_2['num_words'] = Raw_Data_2.Customer_Comment.apply(lambda x : len(x.split()))\n",
        "\n",
        "Raw_Data_2['num_words'].max()"
      ]
    },
    {
      "cell_type": "code",
      "execution_count": null,
      "metadata": {
        "colab": {
          "base_uri": "https://localhost:8080/"
        },
        "id": "gnTA1DJ48hiv",
        "outputId": "3d478940-6f74-4cb2-f39c-41c5f9510d7c"
      },
      "outputs": [
        {
          "output_type": "stream",
          "name": "stdout",
          "text": [
            "2\n"
          ]
        }
      ],
      "source": [
        "# Set number of classes and target variable\n",
        "num_class = len(np.unique(Raw_Data_2.Sentiment_Classifier.values))\n",
        "y = Raw_Data_2['Sentiment_Classifier'].values\n",
        "print(num_class)"
      ]
    },
    {
      "cell_type": "code",
      "execution_count": null,
      "metadata": {
        "id": "sfeHLUOv8hiv"
      },
      "outputs": [],
      "source": [
        "#Tokenize the input and pad\n",
        "maxlen = 302\n",
        "tokenizer = tensorflow.keras.preprocessing.text.Tokenizer()\n",
        "tokenizer.fit_on_texts(Raw_Data_2.Customer_Comment.values)\n",
        "post_seq = tokenizer.texts_to_sequences(Raw_Data_2.Customer_Comment.values)\n",
        "post_seq_padded = pad_sequences(post_seq, maxlen=maxlen)"
      ]
    },
    {
      "cell_type": "code",
      "execution_count": null,
      "metadata": {
        "colab": {
          "base_uri": "https://localhost:8080/"
        },
        "id": "aGp-FbhM8hiw",
        "outputId": "512b86e1-24e4-4981-f384-66b87eee6170"
      },
      "outputs": [
        {
          "output_type": "stream",
          "name": "stdout",
          "text": [
            "33269\n"
          ]
        }
      ],
      "source": [
        "vocab_size = len(tokenizer.word_index) + 1\n",
        "print(vocab_size)"
      ]
    },
    {
      "cell_type": "code",
      "execution_count": null,
      "metadata": {
        "id": "SQ3yntH18hiw"
      },
      "outputs": [],
      "source": [
        "# Creating a train test split with 30% in testing data set\n",
        "x_train, x_test, y_train, y_test = train_test_split(post_seq_padded, y, test_size=0.30)"
      ]
    },
    {
      "cell_type": "code",
      "execution_count": null,
      "metadata": {
        "id": "tTwMTJ6q8hiw"
      },
      "outputs": [],
      "source": [
        "# Build Model\n",
        "embedding_vector_length = 32 \n",
        "model = Sequential() \n",
        "model.add(Embedding(vocab_size, \n",
        "                    embedding_vector_length, \n",
        "                    input_length = maxlen))\n",
        "model.add(Bidirectional(LSTM(64, return_sequences=True)))\n",
        "model.add(GlobalMaxPool1D())\n",
        "model.add(Dense(16, activation='relu'))\n",
        "model.add(Dense(1, activation='sigmoid'))"
      ]
    },
    {
      "cell_type": "code",
      "source": [
        "# Compile model\n",
        "model.compile(loss='binary_crossentropy',\n",
        "              optimizer='adam',\n",
        "              metrics=['accuracy'])\n",
        "\n",
        "print(model.summary())"
      ],
      "metadata": {
        "colab": {
          "base_uri": "https://localhost:8080/"
        },
        "id": "Z7Yi7Ykw89kg",
        "outputId": "c1d62c81-67ea-438f-9110-43515734c513"
      },
      "execution_count": null,
      "outputs": [
        {
          "output_type": "stream",
          "name": "stdout",
          "text": [
            "Model: \"sequential\"\n",
            "_________________________________________________________________\n",
            " Layer (type)                Output Shape              Param #   \n",
            "=================================================================\n",
            " embedding (Embedding)       (None, 302, 32)           1064608   \n",
            "                                                                 \n",
            " bidirectional (Bidirectiona  (None, 302, 128)         49664     \n",
            " l)                                                              \n",
            "                                                                 \n",
            " global_max_pooling1d (Globa  (None, 128)              0         \n",
            " lMaxPooling1D)                                                  \n",
            "                                                                 \n",
            " dense (Dense)               (None, 16)                2064      \n",
            "                                                                 \n",
            " dense_1 (Dense)             (None, 1)                 17        \n",
            "                                                                 \n",
            "=================================================================\n",
            "Total params: 1,116,353\n",
            "Trainable params: 1,116,353\n",
            "Non-trainable params: 0\n",
            "_________________________________________________________________\n",
            "None\n"
          ]
        }
      ]
    },
    {
      "cell_type": "code",
      "source": [
        "history = model.fit(x_train, y_train, validation_data=(x_test, y_test), epochs=5, batch_size=64)"
      ],
      "metadata": {
        "colab": {
          "base_uri": "https://localhost:8080/"
        },
        "id": "ykLEPdxC9FSk",
        "outputId": "045da548-c685-44f8-e552-ed8ff524c296"
      },
      "execution_count": null,
      "outputs": [
        {
          "output_type": "stream",
          "name": "stdout",
          "text": [
            "Epoch 1/5\n",
            "222/222 [==============================] - 78s 336ms/step - loss: 0.5531 - accuracy: 0.7390 - val_loss: 0.4658 - val_accuracy: 0.7812\n",
            "Epoch 2/5\n",
            "222/222 [==============================] - 74s 333ms/step - loss: 0.3553 - accuracy: 0.8467 - val_loss: 0.4309 - val_accuracy: 0.8094\n",
            "Epoch 3/5\n",
            "222/222 [==============================] - 74s 334ms/step - loss: 0.1765 - accuracy: 0.9352 - val_loss: 0.5164 - val_accuracy: 0.7958\n",
            "Epoch 4/5\n",
            "222/222 [==============================] - 74s 333ms/step - loss: 0.0889 - accuracy: 0.9702 - val_loss: 0.6626 - val_accuracy: 0.7879\n",
            "Epoch 5/5\n",
            "222/222 [==============================] - 74s 334ms/step - loss: 0.0507 - accuracy: 0.9855 - val_loss: 0.8597 - val_accuracy: 0.7673\n"
          ]
        }
      ]
    },
    {
      "cell_type": "code",
      "source": [
        "loss, metric = model.evaluate(x_test, y_test, verbose=0)\n",
        "print(\"Test accuracy: %0.3f\" % metric)"
      ],
      "metadata": {
        "colab": {
          "base_uri": "https://localhost:8080/"
        },
        "id": "l5TYXYu--i5i",
        "outputId": "dab9a566-19f8-4b93-d322-c5f3703b26fb"
      },
      "execution_count": null,
      "outputs": [
        {
          "output_type": "stream",
          "name": "stdout",
          "text": [
            "Test accuracy: 0.767\n"
          ]
        }
      ]
    },
    {
      "cell_type": "markdown",
      "source": [
        "# Conclusions and Recommendations"
      ],
      "metadata": {
        "id": "kJX7PtYnFcXt"
      }
    },
    {
      "cell_type": "markdown",
      "source": [
        "Changing the number of classes from 3 to 2 in the dependent variable (Sentiment Classifier field) makes a big difference in the accuracy of this model. This is the model that the book uses on the IMDB dataset and it performs well here with ~77% accuracy \"out of the box.\" "
      ],
      "metadata": {
        "id": "e3o-AgcsFv22"
      }
    }
  ],
  "metadata": {
    "coursera": {
      "schema_names": [
        "NLPC1-1"
      ]
    },
    "kernelspec": {
      "display_name": "Python 3 (ipykernel)",
      "language": "python",
      "name": "python3"
    },
    "language_info": {
      "codemirror_mode": {
        "name": "ipython",
        "version": 3
      },
      "file_extension": ".py",
      "mimetype": "text/x-python",
      "name": "python",
      "nbconvert_exporter": "python",
      "pygments_lexer": "ipython3",
      "version": "3.7.9"
    },
    "colab": {
      "name": "Week 7 Lab 5 --- Sentiment Identification- With Deep Learning_2Classes.ipynb",
      "provenance": [],
      "collapsed_sections": []
    }
  },
  "nbformat": 4,
  "nbformat_minor": 0
}